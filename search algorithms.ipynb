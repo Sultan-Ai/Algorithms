{
 "cells": [
  {
   "cell_type": "markdown",
   "id": "779c63c1-7898-4f94-a310-04d62698c275",
   "metadata": {},
   "source": [
    "# Task 1 - Binary search"
   ]
  },
  {
   "cell_type": "markdown",
   "id": "59d2935d-f2cb-4bb7-8cf5-e9d1062031a6",
   "metadata": {},
   "source": [
    "Given a sorted array, find the element in that array by providing True of False values."
   ]
  },
  {
   "cell_type": "code",
   "execution_count": 1,
   "id": "50eeebe4-8633-4ef5-a835-c7da7c3cb18a",
   "metadata": {},
   "outputs": [],
   "source": [
    "example = [1,2,3,4,5,6,7,8,9,10]"
   ]
  },
  {
   "cell_type": "code",
   "execution_count": 2,
   "id": "b7adeacc-96f7-46a2-8429-68738acbfbcf",
   "metadata": {},
   "outputs": [],
   "source": [
    "def binary_search(arr, element):\n",
    "    \n",
    "    n = len(arr)\n",
    "    mid = n//2\n",
    "    \n",
    "    \n",
    "    if n == 1:\n",
    "        if arr[0] == element:\n",
    "            return True\n",
    "        else:\n",
    "            return False\n",
    "    \n",
    "    else:\n",
    "        if element > arr[mid]:\n",
    "            return binary_search(arr[mid:], element)\n",
    "        elif element < arr[mid]:\n",
    "            return binary_search(arr[:mid], element)\n",
    "        elif element == arr[mid]:\n",
    "            return True\n",
    "    \n",
    "    return False"
   ]
  },
  {
   "cell_type": "code",
   "execution_count": 3,
   "id": "52dbaaed-2def-473b-9117-3d9704caad43",
   "metadata": {},
   "outputs": [
    {
     "name": "stdout",
     "output_type": "stream",
     "text": [
      "True\n",
      "True\n",
      "True\n",
      "True\n",
      "True\n",
      "True\n",
      "True\n",
      "True\n",
      "True\n",
      "True\n"
     ]
    }
   ],
   "source": [
    "for i in example:\n",
    "    print(binary_search(example,i))"
   ]
  },
  {
   "cell_type": "code",
   "execution_count": 4,
   "id": "12c146d2-9287-49f1-8fe8-697f905235e5",
   "metadata": {},
   "outputs": [
    {
     "name": "stdout",
     "output_type": "stream",
     "text": [
      "False\n",
      "False\n",
      "False\n",
      "False\n"
     ]
    }
   ],
   "source": [
    "for i in [-1,0,0.5,11]:\n",
    "    print(binary_search(example,i))"
   ]
  },
  {
   "cell_type": "markdown",
   "id": "71454524-e206-4c44-b4f6-bd15cf59d7af",
   "metadata": {},
   "source": [
    "# Task 1b - Binary search iterative"
   ]
  },
  {
   "cell_type": "code",
   "execution_count": 18,
   "id": "237642a6-2069-49d4-b2c8-69008cd2d7c7",
   "metadata": {},
   "outputs": [],
   "source": [
    "def binary_search_iter(array, item):\n",
    "    \n",
    "    low = 0\n",
    "    high = len(array)-1\n",
    "    mid = 0\n",
    "    \n",
    "    while low <= high:\n",
    "        \n",
    "        mid = (high + low)//2\n",
    "        \n",
    "        if item < array[mid]:\n",
    "            high = mid-1\n",
    "        elif item > array[mid]:\n",
    "            low = mid+1\n",
    "        elif item == array[mid]:\n",
    "            return True, mid\n",
    "    \n",
    "    return False"
   ]
  },
  {
   "cell_type": "code",
   "execution_count": 19,
   "id": "f37834f6-144a-4014-8b90-b33c05e95bc2",
   "metadata": {},
   "outputs": [
    {
     "name": "stdout",
     "output_type": "stream",
     "text": [
      "(True, 0)\n",
      "(True, 1)\n",
      "(True, 2)\n",
      "(True, 3)\n",
      "(True, 4)\n",
      "(True, 5)\n",
      "(True, 6)\n",
      "(True, 7)\n",
      "(True, 8)\n",
      "(True, 9)\n"
     ]
    }
   ],
   "source": [
    "for i in example:\n",
    "    print(binary_search_iter(example,i))"
   ]
  },
  {
   "cell_type": "code",
   "execution_count": 20,
   "id": "5fbb1531-c377-4eb1-8a74-4b2d961db317",
   "metadata": {},
   "outputs": [
    {
     "name": "stdout",
     "output_type": "stream",
     "text": [
      "False\n",
      "False\n",
      "False\n",
      "False\n"
     ]
    }
   ],
   "source": [
    "for i in [-1,0,0.5,11]:\n",
    "    print(binary_search_iter(example,i))"
   ]
  },
  {
   "cell_type": "markdown",
   "id": "6aceee9c-69e7-4323-84c5-56151be8a52c",
   "metadata": {},
   "source": [
    "# Task 2 - Sequential search"
   ]
  },
  {
   "cell_type": "code",
   "execution_count": 8,
   "id": "26197619-0821-4178-b273-d79f38f0a204",
   "metadata": {},
   "outputs": [],
   "source": [
    "def seq_search(item_list, element):\n",
    "    \n",
    "    index = 0\n",
    "    \n",
    "    for item in item_list:\n",
    "        \n",
    "        index += 1\n",
    "        if element == item:\n",
    "            return True, index\n",
    "        \n",
    "    return False"
   ]
  },
  {
   "cell_type": "code",
   "execution_count": 9,
   "id": "7859b802-aca0-4d1c-8c59-b7c04452bf7d",
   "metadata": {},
   "outputs": [
    {
     "name": "stdout",
     "output_type": "stream",
     "text": [
      "(True, 1)\n",
      "(True, 2)\n",
      "(True, 3)\n",
      "(True, 4)\n",
      "(True, 5)\n",
      "(True, 6)\n",
      "(True, 7)\n",
      "(True, 8)\n",
      "(True, 9)\n",
      "(True, 10)\n"
     ]
    }
   ],
   "source": [
    "for item in example:\n",
    "    print(seq_search(example,item))"
   ]
  },
  {
   "cell_type": "code",
   "execution_count": 10,
   "id": "d2271bce-51b4-408a-bb92-ff2b20501a55",
   "metadata": {},
   "outputs": [
    {
     "name": "stdout",
     "output_type": "stream",
     "text": [
      "False\n",
      "False\n",
      "False\n",
      "False\n"
     ]
    }
   ],
   "source": [
    "for item in [-1,0,0.5,11]:\n",
    "    print(seq_search(example,item))"
   ]
  },
  {
   "cell_type": "markdown",
   "id": "363ba4c9-2252-4818-a107-aa75b109413d",
   "metadata": {
    "tags": []
   },
   "source": [
    "# Task 3 - number of occurences"
   ]
  },
  {
   "cell_type": "raw",
   "id": "b72327a9-2172-4010-bcc5-3c3143574ec4",
   "metadata": {},
   "source": [
    "Original array: array('i', [1, 3, 5, 3, 7, 9, 3])\n",
    "Number of occurrences of the number 3 in the said array: 3"
   ]
  },
  {
   "cell_type": "code",
   "execution_count": 12,
   "id": "51839d2d-ccb1-4e7b-a9db-f4fa480a4a16",
   "metadata": {},
   "outputs": [
    {
     "data": {
      "text/plain": [
       "(True, 2)"
      ]
     },
     "execution_count": 12,
     "metadata": {},
     "output_type": "execute_result"
    }
   ],
   "source": [
    "seq_search([1, 3, 5, 3, 7, 9, 3], 3)"
   ]
  },
  {
   "cell_type": "markdown",
   "id": "5a903576-742f-4fa7-b070-1e1b833a2618",
   "metadata": {},
   "source": [
    "My previously defined function does not return all possible indexes."
   ]
  },
  {
   "cell_type": "code",
   "execution_count": 16,
   "id": "d958ab9f-d85b-4237-abcd-2882a7ef98be",
   "metadata": {},
   "outputs": [],
   "source": [
    "def seq_search_all(array, item):\n",
    "    \n",
    "    n = len(array)\n",
    "    count = 0\n",
    "    indexes = []\n",
    "    \n",
    "    for i in range(n):\n",
    "        if array[i] == item:\n",
    "            count += 1\n",
    "            indexes.append(i)\n",
    "    return count, indexes"
   ]
  },
  {
   "cell_type": "code",
   "execution_count": 17,
   "id": "fbd703cb-76c4-4768-a25b-fcbfaa534e46",
   "metadata": {},
   "outputs": [
    {
     "data": {
      "text/plain": [
       "(3, [1, 3, 6])"
      ]
     },
     "execution_count": 17,
     "metadata": {},
     "output_type": "execute_result"
    }
   ],
   "source": [
    "seq_search_all([1, 3, 5, 3, 7, 9, 3], 3)"
   ]
  },
  {
   "cell_type": "code",
   "execution_count": null,
   "id": "e6a6a58d-4b9e-4378-885b-3ae43268fc42",
   "metadata": {},
   "outputs": [],
   "source": []
  }
 ],
 "metadata": {
  "kernelspec": {
   "display_name": "Python 3 (ipykernel)",
   "language": "python",
   "name": "python3"
  },
  "language_info": {
   "codemirror_mode": {
    "name": "ipython",
    "version": 3
   },
   "file_extension": ".py",
   "mimetype": "text/x-python",
   "name": "python",
   "nbconvert_exporter": "python",
   "pygments_lexer": "ipython3",
   "version": "3.9.13"
  }
 },
 "nbformat": 4,
 "nbformat_minor": 5
}
