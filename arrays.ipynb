{
 "cells": [
  {
   "cell_type": "markdown",
   "id": "6681032d-f157-4885-afd7-d769c07b086a",
   "metadata": {},
   "source": [
    "https://www.w3resource.com/python-exercises/array/"
   ]
  },
  {
   "cell_type": "markdown",
   "id": "536aadd7-e176-4555-b0d2-14c996a8ff00",
   "metadata": {},
   "source": [
    "# Task 3"
   ]
  },
  {
   "cell_type": "code",
   "execution_count": 10,
   "id": "8e565098-328d-4a20-abb6-59d775a232a6",
   "metadata": {},
   "outputs": [],
   "source": [
    "ex = [1, 3, 5, 3, 7, 1, 9, 3]"
   ]
  },
  {
   "cell_type": "code",
   "execution_count": 28,
   "id": "e5c7d3c6-2320-4463-b50d-4bf1aacf9ffa",
   "metadata": {},
   "outputs": [],
   "source": [
    "def reverse_list(array):\n",
    "    \n",
    "    n = len(array)\n",
    "    reverse_array = []\n",
    "    \n",
    "    for i in range(n):\n",
    "        reverse_array.append(array[n-i-1])\n",
    "        print(reverse_array)\n",
    "        \n",
    "    return reverse_array"
   ]
  },
  {
   "cell_type": "code",
   "execution_count": 29,
   "id": "ffe40eaf-5e6a-4d88-99de-9629c5ea932c",
   "metadata": {},
   "outputs": [
    {
     "name": "stdout",
     "output_type": "stream",
     "text": [
      "[3]\n",
      "[3, 9]\n",
      "[3, 9, 1]\n",
      "[3, 9, 1, 7]\n",
      "[3, 9, 1, 7, 3]\n",
      "[3, 9, 1, 7, 3, 5]\n",
      "[3, 9, 1, 7, 3, 5, 3]\n",
      "[3, 9, 1, 7, 3, 5, 3, 1]\n"
     ]
    },
    {
     "data": {
      "text/plain": [
       "[3, 9, 1, 7, 3, 5, 3, 1]"
      ]
     },
     "execution_count": 29,
     "metadata": {},
     "output_type": "execute_result"
    }
   ],
   "source": [
    "reverse_list(ex)"
   ]
  },
  {
   "cell_type": "markdown",
   "id": "a913938e-cacb-4bce-906a-93eb66257156",
   "metadata": {},
   "source": [
    "# Task 6"
   ]
  },
  {
   "cell_type": "markdown",
   "id": "ad2d6bf7-233d-4d74-89e8-948a7cf4150c",
   "metadata": {},
   "source": [
    "# Task 10"
   ]
  },
  {
   "cell_type": "code",
   "execution_count": 37,
   "id": "a52c348f-fac2-445e-a205-b1fdfb8c1b71",
   "metadata": {},
   "outputs": [],
   "source": [
    "def insert_item(array, item, index):\n",
    "    \n",
    "    n = len(array)+1\n",
    "    \n",
    "    new_array = [None]*n\n",
    "    \n",
    "    i = 0\n",
    "    \n",
    "    \n",
    "    while i < index:\n",
    "        new_array[i] = array[i]\n",
    "        i += 1\n",
    "        \n",
    "    new_array[index] = item\n",
    "    i += 1\n",
    "    \n",
    "    while i <= n-1:\n",
    "        new_array[i] = array[i-1]\n",
    "        i += 1\n",
    "    \n",
    "    \n",
    "    return new_array"
   ]
  },
  {
   "cell_type": "code",
   "execution_count": 38,
   "id": "a9362da9-070d-435a-9147-a1062c1e143a",
   "metadata": {},
   "outputs": [
    {
     "data": {
      "text/plain": [
       "[1, 4, 3, 5, 7, 9]"
      ]
     },
     "execution_count": 38,
     "metadata": {},
     "output_type": "execute_result"
    }
   ],
   "source": [
    "insert_item([1, 3, 5, 7, 9], 4, 1)"
   ]
  },
  {
   "cell_type": "code",
   "execution_count": 39,
   "id": "7d1e20c3-16f5-4ed6-a1ae-6f79a51e2320",
   "metadata": {},
   "outputs": [],
   "source": [
    "array = [1, 3, 5, 7, 9]\n",
    "array.insert(1,4)"
   ]
  },
  {
   "cell_type": "code",
   "execution_count": 40,
   "id": "7aad1f36-7669-4afd-805d-4c5a0328b7ef",
   "metadata": {},
   "outputs": [
    {
     "data": {
      "text/plain": [
       "[1, 4, 3, 5, 7, 9]"
      ]
     },
     "execution_count": 40,
     "metadata": {},
     "output_type": "execute_result"
    }
   ],
   "source": [
    "array"
   ]
  },
  {
   "cell_type": "markdown",
   "id": "02c0898a-fbef-4e7f-9389-34856ac88966",
   "metadata": {},
   "source": [
    "# Task 17"
   ]
  },
  {
   "cell_type": "raw",
   "id": "43d0dc50-7f1c-49d4-998a-9dc54554c6d1",
   "metadata": {},
   "source": [
    "Original array: [1, 2, 3, 4, 7, 0, 8, 4]\n",
    "Maximum product pair is: (7, 8)\n",
    "\n",
    "Original array: [0, -1, -2, -4, 5, 0, -6]\n",
    "Maximum product pair is: (-4, -6)"
   ]
  },
  {
   "cell_type": "code",
   "execution_count": 51,
   "id": "f20eb9c8-a05d-4c28-aaac-4fdfd71c7ccc",
   "metadata": {},
   "outputs": [],
   "source": [
    "def max_product(array):\n",
    "    \n",
    "    product = -10000\n",
    "    \n",
    "    for i in array:\n",
    "        \n",
    "        for j in array:\n",
    "            \n",
    "            if i*j > product and i != j:\n",
    "                product = i*j\n",
    "                i_new = i\n",
    "                j_new = j\n",
    "    \n",
    "    return i_new, j_new, product"
   ]
  },
  {
   "cell_type": "code",
   "execution_count": 52,
   "id": "602e854c-2de2-4e76-8898-c9abf1c8f3fd",
   "metadata": {},
   "outputs": [
    {
     "data": {
      "text/plain": [
       "(7, 8, 56)"
      ]
     },
     "execution_count": 52,
     "metadata": {},
     "output_type": "execute_result"
    }
   ],
   "source": [
    "max_product([1, 2, 3, 4, 7, 0, 8, 4])"
   ]
  },
  {
   "cell_type": "code",
   "execution_count": 53,
   "id": "b22aaad1-15d7-4ef1-9233-bd0e43d80a34",
   "metadata": {},
   "outputs": [
    {
     "data": {
      "text/plain": [
       "(-4, -6, 24)"
      ]
     },
     "execution_count": 53,
     "metadata": {},
     "output_type": "execute_result"
    }
   ],
   "source": [
    "max_product([0, -1, -2, -4, 5, 0, -6])"
   ]
  },
  {
   "cell_type": "markdown",
   "id": "f62bcb05-2767-4917-b94f-70d8c8ce7533",
   "metadata": {},
   "source": [
    "# Task 20"
   ]
  },
  {
   "cell_type": "code",
   "execution_count": 56,
   "id": "61494f24-c870-405b-bd90-815e08348240",
   "metadata": {},
   "outputs": [],
   "source": [
    "def len_array(array):\n",
    "    \n",
    "    count = 0\n",
    "    \n",
    "    for item in array:\n",
    "        count += 1\n",
    "    \n",
    "    return count"
   ]
  },
  {
   "cell_type": "code",
   "execution_count": 59,
   "id": "8e89c18c-e7c2-4711-b77c-5f667a723d75",
   "metadata": {},
   "outputs": [],
   "source": [
    "example = [0, -1, -2, -4, 5, 0, -6]"
   ]
  },
  {
   "cell_type": "code",
   "execution_count": 60,
   "id": "1518292a-a4a5-4f79-b446-f105b027093a",
   "metadata": {},
   "outputs": [
    {
     "data": {
      "text/plain": [
       "7"
      ]
     },
     "execution_count": 60,
     "metadata": {},
     "output_type": "execute_result"
    }
   ],
   "source": [
    "len_array(example)"
   ]
  },
  {
   "cell_type": "code",
   "execution_count": 61,
   "id": "6dc4938a-3d47-455f-894a-12a93ccec5f3",
   "metadata": {},
   "outputs": [
    {
     "data": {
      "text/plain": [
       "7"
      ]
     },
     "execution_count": 61,
     "metadata": {},
     "output_type": "execute_result"
    }
   ],
   "source": [
    "len(example)"
   ]
  },
  {
   "cell_type": "markdown",
   "id": "6e1e92dc-3008-4a94-abb9-4a48849e704d",
   "metadata": {},
   "source": [
    "# Task 23"
   ]
  },
  {
   "cell_type": "raw",
   "id": "37f0bc10-60bf-4642-aa95-f79100993fc4",
   "metadata": {},
   "source": [
    "Original array: 2 4 2 6 4 8\n",
    "After removing duplicate elements from the said array: 2 4 6 8"
   ]
  },
  {
   "cell_type": "code",
   "execution_count": 81,
   "id": "af8a2c0b-8d4f-44aa-ba75-667b231e76ed",
   "metadata": {},
   "outputs": [],
   "source": [
    "def remove_duplicate(array):\n",
    "    \n",
    "    new_array = []\n",
    "    new_array.append(array[0])\n",
    "    \n",
    "    for i in range(1, len(array)):\n",
    "        exist = False\n",
    "        \n",
    "        for j in range(len(new_array)):\n",
    "            if array[i] == new_array[j]:\n",
    "                exist = True\n",
    "            \n",
    "        if exist == True:\n",
    "            pass\n",
    "        else:\n",
    "            new_array.append(array[i])\n",
    "                     \n",
    "    return new_array        "
   ]
  },
  {
   "cell_type": "code",
   "execution_count": 82,
   "id": "2955d690-521e-438d-abab-3e9122091830",
   "metadata": {},
   "outputs": [
    {
     "data": {
      "text/plain": [
       "[2, 4, 6, 8]"
      ]
     },
     "execution_count": 82,
     "metadata": {},
     "output_type": "execute_result"
    }
   ],
   "source": [
    "remove_duplicate([2,4,2,6,4,8])"
   ]
  },
  {
   "cell_type": "code",
   "execution_count": null,
   "id": "e319b255-20a6-4f96-bfd3-e2b426faf7ee",
   "metadata": {},
   "outputs": [],
   "source": []
  }
 ],
 "metadata": {
  "kernelspec": {
   "display_name": "Python 3 (ipykernel)",
   "language": "python",
   "name": "python3"
  },
  "language_info": {
   "codemirror_mode": {
    "name": "ipython",
    "version": 3
   },
   "file_extension": ".py",
   "mimetype": "text/x-python",
   "name": "python",
   "nbconvert_exporter": "python",
   "pygments_lexer": "ipython3",
   "version": "3.9.13"
  }
 },
 "nbformat": 4,
 "nbformat_minor": 5
}
