{
 "cells": [
  {
   "cell_type": "markdown",
   "id": "5f77d949-e151-4588-9336-9ccefdbcd96c",
   "metadata": {},
   "source": [
    "# Task 1 - Bubble sort"
   ]
  },
  {
   "cell_type": "code",
   "execution_count": 1,
   "id": "85a5d03f-7e6b-4d58-90ed-51b1d54bcd46",
   "metadata": {},
   "outputs": [],
   "source": [
    "def bubble_up(array):\n",
    "    \n",
    "    n = len(array)\n",
    "    \n",
    "    # if not a single swap then this script has to stop\n",
    "    swapped = False\n",
    "    \n",
    "    # should be n-1 because we do not iterate over the last item, there is nothing to the right of it\n",
    "    for i in range(0,n-1):\n",
    "        \n",
    "        if array[i] > array[i+1]:\n",
    "            swapped = True\n",
    "            array[i], array[i+1] = array[i+1], array[i]\n",
    "        \n",
    "    return array, swapped"
   ]
  },
  {
   "cell_type": "code",
   "execution_count": 2,
   "id": "123e2aeb-5d12-4f1e-a797-8a73e4f9b77d",
   "metadata": {},
   "outputs": [
    {
     "data": {
      "text/plain": [
       "([3, 2, 1, 4], True)"
      ]
     },
     "execution_count": 2,
     "metadata": {},
     "output_type": "execute_result"
    }
   ],
   "source": [
    "bubble_up([4,3,2,1])"
   ]
  },
  {
   "cell_type": "code",
   "execution_count": 3,
   "id": "0d60c5e6-0606-4b7e-bd18-5384daa41748",
   "metadata": {},
   "outputs": [
    {
     "data": {
      "text/plain": [
       "([1, 2, 3, 4], True)"
      ]
     },
     "execution_count": 3,
     "metadata": {},
     "output_type": "execute_result"
    }
   ],
   "source": [
    "bubble_up([2, 1, 3, 4])"
   ]
  },
  {
   "cell_type": "code",
   "execution_count": 4,
   "id": "756b3815-bac7-409f-b875-b5de8f62629b",
   "metadata": {},
   "outputs": [],
   "source": [
    "def bubble_sort(array):\n",
    "    \n",
    "    n = len(array)\n",
    "    \n",
    "    for i in range(n-1):\n",
    "        array, swapped = bubble_up(array)\n",
    "        print(array)\n",
    "        if swapped == False:\n",
    "            return array\n",
    "        \n",
    "    \n",
    "    return array"
   ]
  },
  {
   "cell_type": "code",
   "execution_count": 5,
   "id": "061d0edf-e1c1-4ea4-aff9-cea067bf07c7",
   "metadata": {},
   "outputs": [
    {
     "name": "stdout",
     "output_type": "stream",
     "text": [
      "[3, 2, 1, 4]\n",
      "[2, 1, 3, 4]\n",
      "[1, 2, 3, 4]\n"
     ]
    },
    {
     "data": {
      "text/plain": [
       "[1, 2, 3, 4]"
      ]
     },
     "execution_count": 5,
     "metadata": {},
     "output_type": "execute_result"
    }
   ],
   "source": [
    "bubble_sort([4,3,2,1])"
   ]
  },
  {
   "cell_type": "code",
   "execution_count": 6,
   "id": "68424308-747a-4fc7-b1ff-8dc37d929328",
   "metadata": {},
   "outputs": [
    {
     "name": "stdout",
     "output_type": "stream",
     "text": [
      "[1, 2, 3, 4]\n"
     ]
    },
    {
     "data": {
      "text/plain": [
       "[1, 2, 3, 4]"
      ]
     },
     "execution_count": 6,
     "metadata": {},
     "output_type": "execute_result"
    }
   ],
   "source": [
    "bubble_sort([1,2,3,4])"
   ]
  },
  {
   "cell_type": "markdown",
   "id": "67af3f1f-3509-47f3-ba62-708a1144afde",
   "metadata": {},
   "source": [
    "# Task 2 - Insertion sort"
   ]
  },
  {
   "cell_type": "markdown",
   "id": "071423a8-945c-4706-8a23-0aecddc27868",
   "metadata": {},
   "source": [
    "Sorting happens in-place."
   ]
  },
  {
   "cell_type": "markdown",
   "id": "1e5e55f2-218e-4a67-9d71-14fc40238ad4",
   "metadata": {},
   "source": [
    "## Task 2A"
   ]
  },
  {
   "cell_type": "markdown",
   "id": "d47acc7c-3c34-4617-8eb2-78ca409c333a",
   "metadata": {},
   "source": [
    "Insert a number in a sorted array, so that the resulting array will be sorted as well."
   ]
  },
  {
   "cell_type": "code",
   "execution_count": 7,
   "id": "977e58e6-22c5-4026-8444-4bf8b6d60bff",
   "metadata": {},
   "outputs": [],
   "source": [
    "example =[21,29,38]\n",
    "insert = 17"
   ]
  },
  {
   "cell_type": "code",
   "execution_count": 8,
   "id": "d5948866-3d0f-4143-b322-5af08d162968",
   "metadata": {},
   "outputs": [],
   "source": [
    "def insert_in_list(array, item):\n",
    "    \n",
    "    array.append(item)\n",
    "    \n",
    "    n = len(array)\n",
    "    \n",
    "    for i in reversed(range(0,n)):\n",
    "        \n",
    "        if array[i] > array[i-1]:\n",
    "            array[i], array[i-1] = array[i-1], array[i]\n",
    "    \n",
    "    return array"
   ]
  },
  {
   "cell_type": "code",
   "execution_count": 9,
   "id": "fb7c3a7b-69fd-4af5-a7dd-d444245dfd19",
   "metadata": {},
   "outputs": [
    {
     "data": {
      "text/plain": [
       "[17, 21, 29, 38]"
      ]
     },
     "execution_count": 9,
     "metadata": {},
     "output_type": "execute_result"
    }
   ],
   "source": [
    "insert_in_list(example, insert)"
   ]
  },
  {
   "cell_type": "markdown",
   "id": "8ac69efc-34be-4b9b-8657-1c7fdb44ba58",
   "metadata": {},
   "source": [
    "## Task 2B"
   ]
  },
  {
   "cell_type": "code",
   "execution_count": 10,
   "id": "4a22798b-03dd-4180-92a7-a78e0c10503a",
   "metadata": {},
   "outputs": [],
   "source": [
    "# Function to do insertion sort\n",
    "def insertionSort(arr):\n",
    " \n",
    "    # Traverse through 1 to len(arr)\n",
    "    for i in range(1, len(arr)):\n",
    " \n",
    "        key = arr[i]\n",
    " \n",
    "        # Move elements of arr[0..i-1], that are\n",
    "        # greater than key, to one position ahead\n",
    "        # of their current position\n",
    "        j = i-1\n",
    "        while j >= 0 and key < arr[j] :\n",
    "                arr[j + 1] = arr[j]\n",
    "                j -= 1\n",
    "        arr[j + 1] = key\n",
    " \n",
    " \n"
   ]
  },
  {
   "cell_type": "code",
   "execution_count": 11,
   "id": "2692bf4b-3318-4979-b846-40a5e541885b",
   "metadata": {},
   "outputs": [
    {
     "name": "stdout",
     "output_type": "stream",
     "text": [
      " 5\n",
      " 6\n",
      " 11\n",
      " 12\n",
      " 13\n"
     ]
    }
   ],
   "source": [
    "# Driver code to test above\n",
    "arr = [12, 11, 13, 5, 6]\n",
    "insertionSort(arr)\n",
    "for i in range(len(arr)):\n",
    "    print (\"% d\" % arr[i])"
   ]
  },
  {
   "cell_type": "markdown",
   "id": "b112f2ee-0a9d-4ecf-ad0a-bd1ff06c0721",
   "metadata": {},
   "source": [
    "# Task 3. Selection sort"
   ]
  },
  {
   "cell_type": "code",
   "execution_count": 12,
   "id": "94ba5b03-2108-4e31-a81a-ab54fd5908c9",
   "metadata": {},
   "outputs": [],
   "source": [
    "example = [64,25,12,22,11]"
   ]
  },
  {
   "cell_type": "code",
   "execution_count": 13,
   "id": "c6c24e9f-8791-4d09-8919-f9fdc3096392",
   "metadata": {},
   "outputs": [],
   "source": [
    "def min_item(array, index):\n",
    "    '''\n",
    "    returns index of min item and replaces it to the begininng\n",
    "    '''\n",
    "    \n",
    "    n = len(array)\n",
    "    min_value = 10000\n",
    "    \n",
    "    for i in range(index,n):\n",
    "        if array[i] < min_value:\n",
    "            min_value = array[i]\n",
    "            min_index = i\n",
    "    \n",
    "    array[min_index], array[index] = array[index], min_value\n",
    "    \n",
    "    return array"
   ]
  },
  {
   "cell_type": "code",
   "execution_count": 14,
   "id": "7dca83e0-1ca4-4de7-bd9f-274d839c474e",
   "metadata": {},
   "outputs": [
    {
     "data": {
      "text/plain": [
       "[11, 25, 12, 22, 64]"
      ]
     },
     "execution_count": 14,
     "metadata": {},
     "output_type": "execute_result"
    }
   ],
   "source": [
    "min_item(example,0)"
   ]
  },
  {
   "cell_type": "code",
   "execution_count": 15,
   "id": "9dc7bb90-ecbb-4f8d-8c9c-2ed345830e54",
   "metadata": {},
   "outputs": [
    {
     "data": {
      "text/plain": [
       "[11, 12, 25, 22, 64]"
      ]
     },
     "execution_count": 15,
     "metadata": {},
     "output_type": "execute_result"
    }
   ],
   "source": [
    "min_item(example,1)"
   ]
  },
  {
   "cell_type": "code",
   "execution_count": 16,
   "id": "dcfcc122-5696-4c33-ab0c-bdee312dc0d2",
   "metadata": {},
   "outputs": [],
   "source": [
    "def selection_sort(array):\n",
    "    \n",
    "    n = len(array)\n",
    "    \n",
    "    for i in range(n):\n",
    "        index = i\n",
    "        array = min_item(array, index)\n",
    "\n",
    "    return array"
   ]
  },
  {
   "cell_type": "code",
   "execution_count": 17,
   "id": "d7debfe1-27f9-484b-8b6f-ed137db09c1f",
   "metadata": {},
   "outputs": [
    {
     "data": {
      "text/plain": [
       "[11, 12, 22, 25, 64]"
      ]
     },
     "execution_count": 17,
     "metadata": {},
     "output_type": "execute_result"
    }
   ],
   "source": [
    "selection_sort([64,25,12,22,11])"
   ]
  },
  {
   "cell_type": "code",
   "execution_count": null,
   "id": "a4b03707-9466-46d8-b3d3-034369579f5c",
   "metadata": {},
   "outputs": [],
   "source": []
  },
  {
   "cell_type": "code",
   "execution_count": null,
   "id": "fc292554-148a-4f6e-a12c-d7c7c129d29d",
   "metadata": {},
   "outputs": [],
   "source": []
  }
 ],
 "metadata": {
  "kernelspec": {
   "display_name": "Python 3 (ipykernel)",
   "language": "python",
   "name": "python3"
  },
  "language_info": {
   "codemirror_mode": {
    "name": "ipython",
    "version": 3
   },
   "file_extension": ".py",
   "mimetype": "text/x-python",
   "name": "python",
   "nbconvert_exporter": "python",
   "pygments_lexer": "ipython3",
   "version": "3.9.13"
  }
 },
 "nbformat": 4,
 "nbformat_minor": 5
}
