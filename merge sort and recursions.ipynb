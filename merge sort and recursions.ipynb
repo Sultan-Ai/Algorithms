{
 "cells": [
  {
   "cell_type": "markdown",
   "id": "9e792cc2-ed8b-47d4-9a2c-3de063f8fc0e",
   "metadata": {},
   "source": [
    "# Task 1"
   ]
  },
  {
   "cell_type": "markdown",
   "id": "999128ae-e32f-48e3-97ce-5337bffa73e5",
   "metadata": {},
   "source": [
    "Merge two sorted arrays, and create a new sorted array."
   ]
  },
  {
   "cell_type": "markdown",
   "id": "acfa7cbf-0815-4390-94b9-ac192d8123b9",
   "metadata": {},
   "source": [
    "## Solution A"
   ]
  },
  {
   "cell_type": "code",
   "execution_count": 1,
   "id": "3e07b430-4fda-43ad-bf5b-afb0980206a9",
   "metadata": {},
   "outputs": [],
   "source": [
    "arr1 = [17,21,29,38]\n",
    "arr2 = [4,9,25,32]"
   ]
  },
  {
   "cell_type": "code",
   "execution_count": 2,
   "id": "0c99e0e1-416a-4fff-8031-1c10481c175b",
   "metadata": {},
   "outputs": [],
   "source": [
    "def merge_two_sorted_lists(list1, list2):\n",
    "    \n",
    "    n1 = len(list1)\n",
    "    n2 = len(list2)\n",
    "    list3 = []\n",
    "    \n",
    "    i_1 = 0\n",
    "    i_2 = 0\n",
    "    \n",
    "    while i_1 < n1 and i_2 < n2:\n",
    "        \n",
    "        if list1[i_1] <= list2[i_2]:\n",
    "            list3.append(list1[i_1])\n",
    "            i_1 += 1\n",
    "        else:\n",
    "            list3.append(list2[i_2])\n",
    "            i_2 += 1\n",
    "    \n",
    "    while i_1 < n1:\n",
    "        list3.append(list1[i_1])\n",
    "        i_1 += 1\n",
    "    while i_2 < n2:\n",
    "        list3.append(list2[i_2])\n",
    "        i_2 += 1\n",
    "        \n",
    "    return list3"
   ]
  },
  {
   "cell_type": "code",
   "execution_count": 3,
   "id": "0bcd2dc8-ffd8-4904-a1ff-ce46d278a475",
   "metadata": {},
   "outputs": [
    {
     "data": {
      "text/plain": [
       "[4, 9, 17, 21, 25, 29, 32, 38]"
      ]
     },
     "execution_count": 3,
     "metadata": {},
     "output_type": "execute_result"
    }
   ],
   "source": [
    "merge_two_sorted_lists(arr1, arr2)"
   ]
  },
  {
   "cell_type": "code",
   "execution_count": 4,
   "id": "6aca8f77-1a8e-4689-976c-4887e1a2bec5",
   "metadata": {},
   "outputs": [
    {
     "data": {
      "text/plain": [
       "[4, 9, 17, 21, 25, 29, 32, 38, 90]"
      ]
     },
     "execution_count": 4,
     "metadata": {},
     "output_type": "execute_result"
    }
   ],
   "source": [
    "merge_two_sorted_lists(arr1, [*arr2, 90])"
   ]
  },
  {
   "cell_type": "code",
   "execution_count": 5,
   "id": "655cde36-e07b-4b89-816b-7b723b6d9c45",
   "metadata": {},
   "outputs": [
    {
     "data": {
      "text/plain": [
       "[1, 2, 3, 5, 6, 7, 8]"
      ]
     },
     "execution_count": 5,
     "metadata": {},
     "output_type": "execute_result"
    }
   ],
   "source": [
    "merge_two_sorted_lists([5,6,7,8], [1,2,3])"
   ]
  },
  {
   "cell_type": "code",
   "execution_count": 6,
   "id": "7417685c-0952-437f-aa06-e110ff1e2f50",
   "metadata": {},
   "outputs": [
    {
     "data": {
      "text/plain": [
       "[1, 2]"
      ]
     },
     "execution_count": 6,
     "metadata": {},
     "output_type": "execute_result"
    }
   ],
   "source": [
    "merge_two_sorted_lists([2],[1])"
   ]
  },
  {
   "cell_type": "markdown",
   "id": "ab978e6c-c326-458e-9c52-969e3221af4f",
   "metadata": {},
   "source": [
    "## Solution B"
   ]
  },
  {
   "cell_type": "code",
   "execution_count": 7,
   "id": "eefe19da-d84b-4416-9299-9490242b2862",
   "metadata": {},
   "outputs": [],
   "source": [
    "def merge_two_sorted_lists_B(list1, list2):\n",
    "    \n",
    "    n1 = len(list1)\n",
    "    n2 = len(list2)\n",
    "    \n",
    "    list3 = [1]*(n1+n2)\n",
    "    \n",
    "    i_1 = 0\n",
    "    i_2 = 0\n",
    "    \n",
    "    for i in range(n1+n2):\n",
    "        \n",
    "        if i_1 < n1 and i_2 < n2:\n",
    "            if list1[i_1] <= list2[i_2]:\n",
    "                list3[i] = list1[i_1]\n",
    "                i_1 += 1\n",
    "            else:\n",
    "                list3[i] = list2[i_2]\n",
    "                i_2 += 1\n",
    "                \n",
    "        elif i_1 <= n1 and i_2 == n2:\n",
    "            list3[i] = list1[i_1]\n",
    "            i_1 += 1\n",
    "            \n",
    "        elif i_2 <= n2 and i_1 == n1:\n",
    "            list3[i] = list2[i_2]\n",
    "            i_2 += 1\n",
    "    \n",
    "    return list3"
   ]
  },
  {
   "cell_type": "code",
   "execution_count": 8,
   "id": "08a7ef36-677a-435c-9c0f-2c0cb73c81f8",
   "metadata": {},
   "outputs": [
    {
     "data": {
      "text/plain": [
       "[4, 9, 17, 21, 25, 29, 32, 38]"
      ]
     },
     "execution_count": 8,
     "metadata": {},
     "output_type": "execute_result"
    }
   ],
   "source": [
    "merge_two_sorted_lists_B(arr1, arr2)"
   ]
  },
  {
   "cell_type": "code",
   "execution_count": 9,
   "id": "4b56c89a-6e3c-4909-bd69-be1b35426887",
   "metadata": {},
   "outputs": [
    {
     "data": {
      "text/plain": [
       "[4, 9, 17, 21, 25, 29, 32, 38, 90, 100]"
      ]
     },
     "execution_count": 9,
     "metadata": {},
     "output_type": "execute_result"
    }
   ],
   "source": [
    "merge_two_sorted_lists_B(arr1, [*arr2, 90, 100])"
   ]
  },
  {
   "cell_type": "code",
   "execution_count": 10,
   "id": "c110d81b-6408-4b87-ad29-7fc2863aad5d",
   "metadata": {},
   "outputs": [
    {
     "data": {
      "text/plain": [
       "[1, 2, 3, 4, 5]"
      ]
     },
     "execution_count": 10,
     "metadata": {},
     "output_type": "execute_result"
    }
   ],
   "source": [
    "merge_two_sorted_lists_B([1,3], [2,4,5])"
   ]
  },
  {
   "cell_type": "markdown",
   "id": "0a453802-6194-4f40-bc02-1121e181cd37",
   "metadata": {},
   "source": [
    "# Task 2"
   ]
  },
  {
   "cell_type": "markdown",
   "id": "cfd892f8-f4aa-49d2-bd04-cd5c149ec6e5",
   "metadata": {},
   "source": [
    "Divide any list in sublists with two items by printing them."
   ]
  },
  {
   "cell_type": "code",
   "execution_count": 11,
   "id": "b5bf2e22-d993-45b0-9620-3209a4e85987",
   "metadata": {},
   "outputs": [],
   "source": [
    "def divide_print(arr):\n",
    "    \n",
    "    if len(arr) == 2:\n",
    "        return arr\n",
    "    \n",
    "    else:\n",
    "        mid = len(arr)//2\n",
    "        \n",
    "        right = arr[mid:]\n",
    "        left = arr[:mid]\n",
    "        \n",
    "        print(left, right)\n",
    "        \n",
    "        divide_print(left)\n",
    "        # divide_print(right)\n",
    "        print('Here comes this')\n",
    "        print(left, right)"
   ]
  },
  {
   "cell_type": "code",
   "execution_count": 12,
   "id": "21d0e082-3037-43bd-b8da-05819f4f13b8",
   "metadata": {},
   "outputs": [
    {
     "name": "stdout",
     "output_type": "stream",
     "text": [
      "[21, 38, 29, 17] [4, 25, 32, 9]\n",
      "[21, 38] [29, 17]\n",
      "Here comes this\n",
      "[21, 38] [29, 17]\n",
      "Here comes this\n",
      "[21, 38, 29, 17] [4, 25, 32, 9]\n"
     ]
    }
   ],
   "source": [
    "divide_print([21, 38, 29, 17, 4, 25, 32, 9])"
   ]
  },
  {
   "cell_type": "markdown",
   "id": "fc9dda3e-82fb-4333-87a2-55ffc2caf1d8",
   "metadata": {},
   "source": [
    "# Task 3"
   ]
  },
  {
   "cell_type": "code",
   "execution_count": 13,
   "id": "70dff0b6-d094-4127-90bf-5fe7d1fa851b",
   "metadata": {},
   "outputs": [],
   "source": [
    "arr = [21, 38, 29, 17, 4, 25, 32, 9]"
   ]
  },
  {
   "cell_type": "code",
   "execution_count": 14,
   "id": "1c31d9d5-9b94-4d5d-874f-0ad508dd57c7",
   "metadata": {},
   "outputs": [],
   "source": [
    "def merge_sort(arr):\n",
    "    \n",
    "    # for any revursion function think of exit condition\n",
    "    if len(arr) <= 1:\n",
    "        return arr\n",
    "    \n",
    "    mid = len(arr)//2\n",
    "    \n",
    "    left = arr[:mid]\n",
    "    right = arr[mid:]\n",
    "    \n",
    "    left = merge_sort(left)\n",
    "    right = merge_sort(right)\n",
    "    \n",
    "    return merge_two_sorted_lists_B(left, right)\n",
    "        "
   ]
  },
  {
   "cell_type": "code",
   "execution_count": 15,
   "id": "bacdb7ce-9a7b-4361-9af3-d5dc1243df29",
   "metadata": {},
   "outputs": [
    {
     "data": {
      "text/plain": [
       "[4, 9, 17, 21, 25, 29, 32, 38]"
      ]
     },
     "execution_count": 15,
     "metadata": {},
     "output_type": "execute_result"
    }
   ],
   "source": [
    "merge_sort(arr)"
   ]
  },
  {
   "cell_type": "markdown",
   "id": "adc78de4-25aa-4034-bc85-bafbb58b2882",
   "metadata": {},
   "source": [
    "# Task 4"
   ]
  },
  {
   "cell_type": "markdown",
   "id": "4ceb72be-43ac-449d-a6e3-6b9f9828fbad",
   "metadata": {},
   "source": [
    "Get familiar with recursion."
   ]
  },
  {
   "cell_type": "code",
   "execution_count": 16,
   "id": "f0214133-396c-40e6-8645-1a7a29408193",
   "metadata": {},
   "outputs": [],
   "source": [
    "def factorial(x):\n",
    "    \n",
    "    if x == 1:\n",
    "        return x\n",
    "    \n",
    "    else:\n",
    "        return factorial(x-1)*x"
   ]
  },
  {
   "cell_type": "code",
   "execution_count": 17,
   "id": "e7232008-e60a-4095-a577-b5f3f57a4b38",
   "metadata": {},
   "outputs": [],
   "source": [
    "def factorial_iter(x):\n",
    "    \n",
    "    output = 1\n",
    "    for i in range(1,x+1):\n",
    "        output = output * i\n",
    "    \n",
    "\n",
    "    return output\n"
   ]
  },
  {
   "cell_type": "code",
   "execution_count": 18,
   "id": "9ae89cde-a6de-4cb6-b135-495e9dce51c4",
   "metadata": {},
   "outputs": [
    {
     "data": {
      "text/plain": [
       "120"
      ]
     },
     "execution_count": 18,
     "metadata": {},
     "output_type": "execute_result"
    }
   ],
   "source": [
    "factorial_iter(5)"
   ]
  },
  {
   "cell_type": "code",
   "execution_count": 19,
   "id": "030d9cd9-004e-4d34-b872-ecbe6cbb89fa",
   "metadata": {},
   "outputs": [
    {
     "data": {
      "text/plain": [
       "120"
      ]
     },
     "execution_count": 19,
     "metadata": {},
     "output_type": "execute_result"
    }
   ],
   "source": [
    "factorial(5)"
   ]
  },
  {
   "cell_type": "code",
   "execution_count": 20,
   "id": "c47ab1cb-2b9a-4dc3-b358-f2db18a503a3",
   "metadata": {},
   "outputs": [],
   "source": [
    "def countdown(n):\n",
    "    print(n)\n",
    "    if n == 0:\n",
    "        return n\n",
    "    else:\n",
    "        countdown(n-1)"
   ]
  },
  {
   "cell_type": "code",
   "execution_count": 21,
   "id": "b576aae3-954d-4c29-999f-38694a4ce378",
   "metadata": {},
   "outputs": [
    {
     "name": "stdout",
     "output_type": "stream",
     "text": [
      "10\n",
      "9\n",
      "8\n",
      "7\n",
      "6\n",
      "5\n",
      "4\n",
      "3\n",
      "2\n",
      "1\n",
      "0\n"
     ]
    }
   ],
   "source": [
    "countdown(10)"
   ]
  },
  {
   "cell_type": "code",
   "execution_count": 22,
   "id": "1551a9cb-a1de-4b3a-9d39-440bd17797ff",
   "metadata": {},
   "outputs": [],
   "source": [
    "def lists(arr):\n",
    "    \n",
    "    n = len(arr)\n",
    "    \n",
    "    if n == 1:\n",
    "        return arr\n",
    "    \n",
    "    else:    \n",
    "        print(arr[:n-1])\n",
    "        lists(arr[:n-1])\n",
    "        \n",
    "    print(arr)"
   ]
  },
  {
   "cell_type": "code",
   "execution_count": 23,
   "id": "61d41f47-e71e-4f4e-8c05-dd6045dc2e8d",
   "metadata": {},
   "outputs": [
    {
     "name": "stdout",
     "output_type": "stream",
     "text": [
      "[1, 2, 3, 4, 5, 6, 7, 8, 9]\n",
      "[1, 2, 3, 4, 5, 6, 7, 8]\n",
      "[1, 2, 3, 4, 5, 6, 7]\n",
      "[1, 2, 3, 4, 5, 6]\n",
      "[1, 2, 3, 4, 5]\n",
      "[1, 2, 3, 4]\n",
      "[1, 2, 3]\n",
      "[1, 2]\n",
      "[1]\n",
      "[1, 2]\n",
      "[1, 2, 3]\n",
      "[1, 2, 3, 4]\n",
      "[1, 2, 3, 4, 5]\n",
      "[1, 2, 3, 4, 5, 6]\n",
      "[1, 2, 3, 4, 5, 6, 7]\n",
      "[1, 2, 3, 4, 5, 6, 7, 8]\n",
      "[1, 2, 3, 4, 5, 6, 7, 8, 9]\n",
      "[1, 2, 3, 4, 5, 6, 7, 8, 9, 10]\n"
     ]
    }
   ],
   "source": [
    "lists([1,2,3,4,5,6,7,8,9,10])"
   ]
  },
  {
   "cell_type": "markdown",
   "id": "95bd85f3-e29e-4e3f-9ddd-84f55631c830",
   "metadata": {},
   "source": [
    "# Various tasks"
   ]
  },
  {
   "cell_type": "markdown",
   "id": "c9f42e40-2358-4f36-ba3e-f111477c761d",
   "metadata": {},
   "source": [
    "All tasks are from https://www.w3resource.com/python-exercises/data-structures-and-algorithms/python-recursion.php."
   ]
  },
  {
   "cell_type": "markdown",
   "id": "94b3e026-7241-4d23-b310-d6b5f30fcac8",
   "metadata": {},
   "source": [
    "## Problem 1"
   ]
  },
  {
   "cell_type": "code",
   "execution_count": 24,
   "id": "8d0049ff-57d3-40cb-8b89-abbd5e4d7c1f",
   "metadata": {},
   "outputs": [],
   "source": [
    "example = [2, 5, 7, 8, 32]"
   ]
  },
  {
   "cell_type": "code",
   "execution_count": 25,
   "id": "77201ade-6846-467b-aa56-575c82da3a62",
   "metadata": {},
   "outputs": [],
   "source": [
    "def calc_sum_of_list(arr):\n",
    "    \n",
    "    n = len(arr)\n",
    "    \n",
    "    if n == 1:\n",
    "        return arr[0]\n",
    "    else:\n",
    "        return arr[0] + calc_sum_of_list(arr[1:]) "
   ]
  },
  {
   "cell_type": "code",
   "execution_count": 26,
   "id": "b8e99204-4606-4e6a-804a-8834ccdc94b2",
   "metadata": {},
   "outputs": [
    {
     "data": {
      "text/plain": [
       "54"
      ]
     },
     "execution_count": 26,
     "metadata": {},
     "output_type": "execute_result"
    }
   ],
   "source": [
    "calc_sum_of_list(example)"
   ]
  },
  {
   "cell_type": "markdown",
   "id": "cde038c1-8d99-4f6f-a6c7-44434ca17289",
   "metadata": {},
   "source": [
    "## Problem 3"
   ]
  },
  {
   "cell_type": "code",
   "execution_count": 27,
   "id": "dc4c71e8-fd3a-4aad-9569-f8400d5c0ab9",
   "metadata": {},
   "outputs": [],
   "source": [
    "def recursive_list_sum(data_list):\n",
    "\ttotal = 0\n",
    "\tfor element in data_list:\n",
    "\t\tif type(element) == type([]):\n",
    "\t\t\ttotal = total + recursive_list_sum(element)\n",
    "\t\telse:\n",
    "\t\t\ttotal = total + element\n",
    "\n",
    "\treturn total"
   ]
  },
  {
   "cell_type": "code",
   "execution_count": 28,
   "id": "71abf75a-c171-401c-89c0-223b39ab6bdd",
   "metadata": {},
   "outputs": [],
   "source": [
    "example = [1,2,[3,4],[5,6]]"
   ]
  },
  {
   "cell_type": "code",
   "execution_count": 30,
   "id": "7bb9629d-a902-4b16-91fd-8b99a8ef8726",
   "metadata": {},
   "outputs": [
    {
     "data": {
      "text/plain": [
       "21"
      ]
     },
     "execution_count": 30,
     "metadata": {},
     "output_type": "execute_result"
    }
   ],
   "source": [
    "recursive_list_sum([1, 2, [3,4],[5,6]])"
   ]
  },
  {
   "cell_type": "markdown",
   "id": "e3de0e90-b30f-4714-bd52-047fc6e080b1",
   "metadata": {},
   "source": [
    "## Problem 5"
   ]
  },
  {
   "cell_type": "code",
   "execution_count": 40,
   "id": "f312695b-c503-4fee-beb9-9a7d7a3736cf",
   "metadata": {},
   "outputs": [],
   "source": [
    "def fibonacci(n):\n",
    "    \n",
    "    if n == 1:\n",
    "        return 0\n",
    "    elif n == 2:\n",
    "        return 1\n",
    "    else:\n",
    "        return fibonacci(n-1) + fibonacci(n-2)\n",
    "    \n",
    "    "
   ]
  },
  {
   "cell_type": "code",
   "execution_count": 43,
   "id": "3fad289e-ffd9-404d-b38f-c05cf00b1565",
   "metadata": {},
   "outputs": [
    {
     "data": {
      "text/plain": [
       "5"
      ]
     },
     "execution_count": 43,
     "metadata": {},
     "output_type": "execute_result"
    }
   ],
   "source": [
    "fibonacci(6)"
   ]
  },
  {
   "cell_type": "code",
   "execution_count": 45,
   "id": "57a2bb01-9fa5-450c-a961-3fe8a4de2e15",
   "metadata": {},
   "outputs": [
    {
     "name": "stdout",
     "output_type": "stream",
     "text": [
      "0\n",
      "1\n",
      "1\n",
      "2\n",
      "3\n",
      "5\n",
      "8\n",
      "13\n",
      "21\n",
      "34\n"
     ]
    }
   ],
   "source": [
    "for i in range(1,11):\n",
    "    print( fibonacci(i))"
   ]
  },
  {
   "cell_type": "markdown",
   "id": "00c3bf96-c1d7-4a7c-9da1-737fbf97da36",
   "metadata": {},
   "source": [
    "## Problem 10"
   ]
  },
  {
   "cell_type": "code",
   "execution_count": 46,
   "id": "d92d05c2-2db0-454f-9408-be7120f4db68",
   "metadata": {},
   "outputs": [],
   "source": [
    "def power(base, n):\n",
    "    \n",
    "    if n == 1:\n",
    "        return base\n",
    "    else:\n",
    "        return power(base, n-1)*base"
   ]
  },
  {
   "cell_type": "code",
   "execution_count": 47,
   "id": "c9313da3-812e-40c5-9d12-8be54cceec8f",
   "metadata": {},
   "outputs": [
    {
     "data": {
      "text/plain": [
       "81"
      ]
     },
     "execution_count": 47,
     "metadata": {},
     "output_type": "execute_result"
    }
   ],
   "source": [
    "power(3,4)"
   ]
  },
  {
   "cell_type": "code",
   "execution_count": null,
   "id": "820904ec-9c31-4b2b-b413-95d647aa6761",
   "metadata": {},
   "outputs": [],
   "source": []
  }
 ],
 "metadata": {
  "kernelspec": {
   "display_name": "Python 3 (ipykernel)",
   "language": "python",
   "name": "python3"
  },
  "language_info": {
   "codemirror_mode": {
    "name": "ipython",
    "version": 3
   },
   "file_extension": ".py",
   "mimetype": "text/x-python",
   "name": "python",
   "nbconvert_exporter": "python",
   "pygments_lexer": "ipython3",
   "version": "3.9.13"
  }
 },
 "nbformat": 4,
 "nbformat_minor": 5
}
